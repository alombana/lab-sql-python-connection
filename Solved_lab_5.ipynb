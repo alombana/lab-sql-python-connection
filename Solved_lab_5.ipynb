{
 "cells": [
  {
   "cell_type": "code",
   "execution_count": null,
   "id": "9489a045",
   "metadata": {},
   "outputs": [],
   "source": [
    "import pandas as pd\n",
    "import numpy as np\n",
    "import pymysql\n",
    "from sqlalchemy import create_engine\n",
    "from dotenv import load_dotenv\n",
    "import os\n",
    "from sqlalchemy import text\n"
   ]
  },
  {
   "cell_type": "code",
   "execution_count": null,
   "id": "b996225e",
   "metadata": {},
   "outputs": [],
   "source": [
    "load_dotenv()\n",
    "password=os.getenv(\"password\")\n"
   ]
  },
  {
   "cell_type": "markdown",
   "id": "3dfe036a",
   "metadata": {},
   "source": [
    "Establish a connection between Python and the Sakila database."
   ]
  },
  {
   "cell_type": "code",
   "execution_count": null,
   "id": "e4e5af70",
   "metadata": {},
   "outputs": [],
   "source": [
    "bd = \"Sakila\"\n",
    "connection_string = 'mysql+pymysql://root:' + password + '@localhost/'+bd\n",
    "engine = create_engine(connection_string)\n",
    "engine\n"
   ]
  },
  {
   "cell_type": "markdown",
   "id": "b90fb97c",
   "metadata": {},
   "source": [
    "Write a Python function called rentals_month that retrieves rental data for a given month and year (passed as parameters) from the Sakila database as a Pandas DataFrame. The function should take in three parameters:\n",
    "\n",
    "    engine: an object representing the database connection engine to be used to establish a connection to the  Sakila database.\n",
    "    \n",
    "    month: an integer representing the month for which rental data is to be retrieved.\n",
    "    \n",
    "    year: an integer representing the year for which rental data is to be retrieved.\n"
   ]
  },
  {
   "cell_type": "code",
   "execution_count": null,
   "id": "f8e6cdcf",
   "metadata": {},
   "outputs": [],
   "source": [
    "def rentals_month(engine,month,year):\n",
    "    enter_month=month\n",
    "    enter_year=year\n",
    "    with engine.connect() as connection:\n",
    "        table= text(f\"select *, month(rental_date) as 'month', year(rental_date) as 'year' from rental where month(rental_date) = '{enter_month}' and year(rental_date)= '{enter_year}';\") \n",
    "        info1=text(\"select month(rental_date) as 'month' from rental group by month(rental_date);\")\n",
    "        info2=text(\"select year(rental_date) as 'year' from rental group by year(rental_date);\")\n",
    "        info_1=connection.execute(info1)\n",
    "        info_2=connection.execute(info2)\n",
    "        data= connection.execute(table)\n",
    "        print(f\"These database counts with the months: {info_1.all()} and years: {info_2.all()} that are in the talbe\")\n",
    "        df=pd.DataFrame(data.all())\n",
    "    return df"
   ]
  },
  {
   "cell_type": "code",
   "execution_count": null,
   "id": "565ec385",
   "metadata": {},
   "outputs": [],
   "source": [
    "data=rentals_month(engine,2,2006)\n",
    "data\n"
   ]
  },
  {
   "cell_type": "markdown",
   "id": "72e0353a",
   "metadata": {},
   "source": [
    "Develop a Python function called rental_count_month that takes the DataFrame provided by rentals_month as input along with the month and year and returns a new DataFrame containing the number of rentals made by each customer_id during the selected month and year.\n",
    "\n",
    "The function should also include the month and year as parameters and use them to name the new column according to the month and year, for example, if the input month is 05 and the year is 2005, the column name should be \"rentals_05_2005\"."
   ]
  },
  {
   "cell_type": "code",
   "execution_count": null,
   "id": "c2ee48ad",
   "metadata": {},
   "outputs": [],
   "source": [
    "def rental_count_month(df_rentals_month,month,year):\n",
    "    enter_month=month\n",
    "    enter_year=year\n",
    "\n",
    "    rentas_customer=pd.DataFrame(df_rentals_month.groupby('customer_id')[['inventory_id']].count())\n",
    "\n",
    "    rentas_customer.rename(columns= {'inventory_id': f\"rentals_{enter_month}_{enter_year}\"}, inplace=True)\n",
    "    \n",
    "    return rentas_customer\n"
   ]
  },
  {
   "cell_type": "code",
   "execution_count": null,
   "id": "fc362b8a",
   "metadata": {},
   "outputs": [],
   "source": [
    "rental_count_month(data,2,2006)"
   ]
  },
  {
   "cell_type": "markdown",
   "id": "a041231a",
   "metadata": {},
   "source": [
    "Create a Python function called compare_rentals that takes two DataFrames as input containing the number of rentals made by each customer in different months and years. The function should return a combined DataFrame with a new 'difference' column, which is the difference between the number of rentals in the two months."
   ]
  },
  {
   "cell_type": "code",
   "execution_count": null,
   "id": "b298677a",
   "metadata": {},
   "outputs": [],
   "source": [
    "def compare_rentals(df_one,df_two):\n",
    "    combined_df=df_one.join([df_two],how='outer')\n",
    "    combined_df.iloc[:,0].fillna(0, inplace=True)\n",
    "    combined_df.iloc[:,1].fillna(0, inplace=True)\n",
    "    combined_df[\"difference\"]=combined_df.iloc[:,1]-combined_df.iloc[:,0]\n",
    "    \n",
    "    return combined_df"
   ]
  },
  {
   "cell_type": "code",
   "execution_count": null,
   "id": "2e05071f",
   "metadata": {},
   "outputs": [],
   "source": [
    "info_one=rentals_month(engine,5,2005)\n",
    "df_one=rental_count_month(info_one,5,2005)\n",
    "info_two=rentals_month(engine,6,2005)\n",
    "df_two=rental_count_month(info_two,6,2005)\n",
    "\n",
    "compare_rentals(df_one,df_two)"
   ]
  }
 ],
 "metadata": {
  "kernelspec": {
   "display_name": "Python 3 (ipykernel)",
   "language": "python",
   "name": "python3"
  },
  "language_info": {
   "codemirror_mode": {
    "name": "ipython",
    "version": 3
   },
   "file_extension": ".py",
   "mimetype": "text/x-python",
   "name": "python",
   "nbconvert_exporter": "python",
   "pygments_lexer": "ipython3",
   "version": "3.11.5"
  }
 },
 "nbformat": 4,
 "nbformat_minor": 5
}
